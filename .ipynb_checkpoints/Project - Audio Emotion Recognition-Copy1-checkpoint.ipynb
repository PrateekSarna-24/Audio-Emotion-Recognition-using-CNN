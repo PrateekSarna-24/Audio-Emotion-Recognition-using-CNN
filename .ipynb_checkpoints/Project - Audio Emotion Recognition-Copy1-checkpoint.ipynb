{
 "cells": [
  {
   "cell_type": "markdown",
   "id": "4eb80210",
   "metadata": {},
   "source": [
    "#  Audio Emotion Recognition"
   ]
  },
  {
   "cell_type": "markdown",
   "id": "6d916774",
   "metadata": {},
   "source": [
    "> Audio emotion recognition is a field of artificial intelligence and signal processing that focuses on the automatic detection and analysis of human emotions from audio data, such as speech or music"
   ]
  },
  {
   "cell_type": "markdown",
   "id": "a2f74f47",
   "metadata": {},
   "source": [
    "### This Project Has Been Divided Into 9 Parts\n",
    "- Understanding \"Audio\" Data\n",
    "- Creating Metadata\n",
    "- Extracting Data\n",
    "- Exploring Data\n",
    "- Mel-frequency cepstral coefficients (MFCCs)\n",
    "- Processing Data for Deep Learning\n",
    "- Setting up Deep Learning Model\n",
    "- Training and Testing The Model\n",
    "- Results"
   ]
  },
  {
   "cell_type": "markdown",
   "id": "d88bfc00",
   "metadata": {},
   "source": [
    "## 1. Understanding \"Audio\" Data"
   ]
  },
  {
   "cell_type": "markdown",
   "id": "6aa57928",
   "metadata": {},
   "source": [
    "> \"Audio\" refers to sound, particularly in the form of vibrations or waves that travel through a medium, such as air, water, or solid objects\n",
    "#### How Sound is Represented?\n",
    "There are severel ways in which we can represent a sound wave. But the important ones are: \n",
    "- Time Domain\n",
    ">We usually represent the sound in the form of the waveform. The plot is made w.r.t \"Time\" & \"Amplitude\"\n",
    "<img src = \"waveform_img.png\" style = \"width:400px;height:200px\"/>\n",
    "- Frequency Domain\n",
    "> Here we represent the sound in the form of Spectogram. The plot is made w.r.t \"Frequency\" & \"Amplitude\" & \"Phase\"\n",
    "<img src = \"spectogram_img.png\" style = \"width:400px;height:200px\"/>"
   ]
  },
  {
   "cell_type": "markdown",
   "id": "44060ee8",
   "metadata": {},
   "source": [
    "## Importing Libraries"
   ]
  },
  {
   "cell_type": "code",
   "execution_count": 1,
   "id": "b193b0fd",
   "metadata": {},
   "outputs": [],
   "source": [
    "import os\n",
    "import librosa\n",
    "from librosa.display import waveshow\n",
    "from IPython.display import Audio\n",
    "import matplotlib.pyplot as plt\n",
    "import numpy as np\n",
    "import pandas as pd\n",
    "from scipy.io import wavfile\n",
    "import warnings\n",
    "from sklearn.model_selection import train_test_split\n",
    "import keras\n",
    "from keras.utils import to_categorical\n",
    "from keras.models import Sequential\n",
    "from keras.layers import Dense, Flatten, Dropout, Conv2D, MaxPooling2D, Conv1D, MaxPooling1D\n",
    "from sklearn.metrics import classification_report, confusion_matrix, accuracy_score\n",
    "from sklearn.metrics import classification_report, confusion_matrix, accuracy_score\n",
    "import seaborn as sns\n",
    "warnings.filterwarnings('ignore')"
   ]
  },
  {
   "cell_type": "markdown",
   "id": "4bf7fe0f",
   "metadata": {},
   "source": [
    "## 2. Creating Metadata"
   ]
  },
  {
   "cell_type": "markdown",
   "id": "ca258f94",
   "metadata": {},
   "source": [
    "#### Creating Metadata"
   ]
  },
  {
   "cell_type": "markdown",
   "id": "426236fd",
   "metadata": {},
   "source": [
    "The following recursive function traverses through each folder and file, and returns audio files in a list."
   ]
  },
  {
   "cell_type": "code",
   "execution_count": 2,
   "id": "6a7eaf90",
   "metadata": {},
   "outputs": [],
   "source": [
    "def get_metadata(path, list_of_files, class_) :\n",
    "    \n",
    "    ## list of all content in the folder\n",
    "    file_folder = os.listdir(path)\n",
    "    temp_class = class_\n",
    "    \n",
    "    ## travering each content\n",
    "    for content in file_folder :\n",
    "        ## if file then append\n",
    "        if '.wav' in content :\n",
    "            list_of_files.append((path + '/' + content, class_))\n",
    "        ## if folder, then make a recursive call\n",
    "        else :\n",
    "            temp_class += 1\n",
    "            get_metadata(path + '/' + content, list_of_files, temp_class)"
   ]
  },
  {
   "cell_type": "markdown",
   "id": "fe0a19be",
   "metadata": {},
   "source": [
    "#### Initializing Variables"
   ]
  },
  {
   "cell_type": "code",
   "execution_count": 3,
   "id": "f4994138",
   "metadata": {},
   "outputs": [],
   "source": [
    "path = r'TESS Toronto emotional speech set data'\n",
    "metadata = []\n",
    "class_initial = -1"
   ]
  },
  {
   "cell_type": "markdown",
   "id": "7466708c",
   "metadata": {},
   "source": [
    "#### Function Call"
   ]
  },
  {
   "cell_type": "code",
   "execution_count": 4,
   "id": "3ae8af42",
   "metadata": {},
   "outputs": [],
   "source": [
    "get_metadata(path, metadata, class_initial)"
   ]
  },
  {
   "cell_type": "markdown",
   "id": "16a5fcac",
   "metadata": {},
   "source": [
    "#### Metadata"
   ]
  },
  {
   "cell_type": "code",
   "execution_count": 5,
   "id": "c9aef949",
   "metadata": {},
   "outputs": [
    {
     "data": {
      "text/html": [
       "<div>\n",
       "<style scoped>\n",
       "    .dataframe tbody tr th:only-of-type {\n",
       "        vertical-align: middle;\n",
       "    }\n",
       "\n",
       "    .dataframe tbody tr th {\n",
       "        vertical-align: top;\n",
       "    }\n",
       "\n",
       "    .dataframe thead th {\n",
       "        text-align: right;\n",
       "    }\n",
       "</style>\n",
       "<table border=\"1\" class=\"dataframe\">\n",
       "  <thead>\n",
       "    <tr style=\"text-align: right;\">\n",
       "      <th></th>\n",
       "      <th>File_name</th>\n",
       "      <th>class</th>\n",
       "    </tr>\n",
       "  </thead>\n",
       "  <tbody>\n",
       "    <tr>\n",
       "      <th>0</th>\n",
       "      <td>TESS Toronto emotional speech set data/OAF_ang...</td>\n",
       "      <td>0</td>\n",
       "    </tr>\n",
       "    <tr>\n",
       "      <th>1</th>\n",
       "      <td>TESS Toronto emotional speech set data/OAF_ang...</td>\n",
       "      <td>0</td>\n",
       "    </tr>\n",
       "    <tr>\n",
       "      <th>2</th>\n",
       "      <td>TESS Toronto emotional speech set data/OAF_ang...</td>\n",
       "      <td>0</td>\n",
       "    </tr>\n",
       "    <tr>\n",
       "      <th>3</th>\n",
       "      <td>TESS Toronto emotional speech set data/OAF_ang...</td>\n",
       "      <td>0</td>\n",
       "    </tr>\n",
       "    <tr>\n",
       "      <th>4</th>\n",
       "      <td>TESS Toronto emotional speech set data/OAF_ang...</td>\n",
       "      <td>0</td>\n",
       "    </tr>\n",
       "    <tr>\n",
       "      <th>...</th>\n",
       "      <td>...</td>\n",
       "      <td>...</td>\n",
       "    </tr>\n",
       "    <tr>\n",
       "      <th>2795</th>\n",
       "      <td>TESS Toronto emotional speech set data/YAF_sad...</td>\n",
       "      <td>13</td>\n",
       "    </tr>\n",
       "    <tr>\n",
       "      <th>2796</th>\n",
       "      <td>TESS Toronto emotional speech set data/YAF_sad...</td>\n",
       "      <td>13</td>\n",
       "    </tr>\n",
       "    <tr>\n",
       "      <th>2797</th>\n",
       "      <td>TESS Toronto emotional speech set data/YAF_sad...</td>\n",
       "      <td>13</td>\n",
       "    </tr>\n",
       "    <tr>\n",
       "      <th>2798</th>\n",
       "      <td>TESS Toronto emotional speech set data/YAF_sad...</td>\n",
       "      <td>13</td>\n",
       "    </tr>\n",
       "    <tr>\n",
       "      <th>2799</th>\n",
       "      <td>TESS Toronto emotional speech set data/YAF_sad...</td>\n",
       "      <td>13</td>\n",
       "    </tr>\n",
       "  </tbody>\n",
       "</table>\n",
       "<p>2800 rows × 2 columns</p>\n",
       "</div>"
      ],
      "text/plain": [
       "                                              File_name  class\n",
       "0     TESS Toronto emotional speech set data/OAF_ang...      0\n",
       "1     TESS Toronto emotional speech set data/OAF_ang...      0\n",
       "2     TESS Toronto emotional speech set data/OAF_ang...      0\n",
       "3     TESS Toronto emotional speech set data/OAF_ang...      0\n",
       "4     TESS Toronto emotional speech set data/OAF_ang...      0\n",
       "...                                                 ...    ...\n",
       "2795  TESS Toronto emotional speech set data/YAF_sad...     13\n",
       "2796  TESS Toronto emotional speech set data/YAF_sad...     13\n",
       "2797  TESS Toronto emotional speech set data/YAF_sad...     13\n",
       "2798  TESS Toronto emotional speech set data/YAF_sad...     13\n",
       "2799  TESS Toronto emotional speech set data/YAF_sad...     13\n",
       "\n",
       "[2800 rows x 2 columns]"
      ]
     },
     "execution_count": 5,
     "metadata": {},
     "output_type": "execute_result"
    }
   ],
   "source": [
    "metadata = pd.DataFrame(metadata, columns = ['File_name', 'class'])\n",
    "metadata"
   ]
  },
  {
   "cell_type": "code",
   "execution_count": 6,
   "id": "d01fce45",
   "metadata": {},
   "outputs": [
    {
     "data": {
      "text/html": [
       "<div>\n",
       "<style scoped>\n",
       "    .dataframe tbody tr th:only-of-type {\n",
       "        vertical-align: middle;\n",
       "    }\n",
       "\n",
       "    .dataframe tbody tr th {\n",
       "        vertical-align: top;\n",
       "    }\n",
       "\n",
       "    .dataframe thead th {\n",
       "        text-align: right;\n",
       "    }\n",
       "</style>\n",
       "<table border=\"1\" class=\"dataframe\">\n",
       "  <thead>\n",
       "    <tr style=\"text-align: right;\">\n",
       "      <th></th>\n",
       "      <th>File_name</th>\n",
       "      <th>class</th>\n",
       "      <th>Age_Factor</th>\n",
       "    </tr>\n",
       "  </thead>\n",
       "  <tbody>\n",
       "    <tr>\n",
       "      <th>0</th>\n",
       "      <td>TESS Toronto emotional speech set data/OAF_ang...</td>\n",
       "      <td>0</td>\n",
       "      <td>young</td>\n",
       "    </tr>\n",
       "    <tr>\n",
       "      <th>1</th>\n",
       "      <td>TESS Toronto emotional speech set data/OAF_ang...</td>\n",
       "      <td>0</td>\n",
       "      <td>young</td>\n",
       "    </tr>\n",
       "    <tr>\n",
       "      <th>2</th>\n",
       "      <td>TESS Toronto emotional speech set data/OAF_ang...</td>\n",
       "      <td>0</td>\n",
       "      <td>young</td>\n",
       "    </tr>\n",
       "    <tr>\n",
       "      <th>3</th>\n",
       "      <td>TESS Toronto emotional speech set data/OAF_ang...</td>\n",
       "      <td>0</td>\n",
       "      <td>young</td>\n",
       "    </tr>\n",
       "    <tr>\n",
       "      <th>4</th>\n",
       "      <td>TESS Toronto emotional speech set data/OAF_ang...</td>\n",
       "      <td>0</td>\n",
       "      <td>young</td>\n",
       "    </tr>\n",
       "    <tr>\n",
       "      <th>...</th>\n",
       "      <td>...</td>\n",
       "      <td>...</td>\n",
       "      <td>...</td>\n",
       "    </tr>\n",
       "    <tr>\n",
       "      <th>2795</th>\n",
       "      <td>TESS Toronto emotional speech set data/YAF_sad...</td>\n",
       "      <td>6</td>\n",
       "      <td>old</td>\n",
       "    </tr>\n",
       "    <tr>\n",
       "      <th>2796</th>\n",
       "      <td>TESS Toronto emotional speech set data/YAF_sad...</td>\n",
       "      <td>6</td>\n",
       "      <td>old</td>\n",
       "    </tr>\n",
       "    <tr>\n",
       "      <th>2797</th>\n",
       "      <td>TESS Toronto emotional speech set data/YAF_sad...</td>\n",
       "      <td>6</td>\n",
       "      <td>old</td>\n",
       "    </tr>\n",
       "    <tr>\n",
       "      <th>2798</th>\n",
       "      <td>TESS Toronto emotional speech set data/YAF_sad...</td>\n",
       "      <td>6</td>\n",
       "      <td>old</td>\n",
       "    </tr>\n",
       "    <tr>\n",
       "      <th>2799</th>\n",
       "      <td>TESS Toronto emotional speech set data/YAF_sad...</td>\n",
       "      <td>6</td>\n",
       "      <td>old</td>\n",
       "    </tr>\n",
       "  </tbody>\n",
       "</table>\n",
       "<p>2800 rows × 3 columns</p>\n",
       "</div>"
      ],
      "text/plain": [
       "                                              File_name  class Age_Factor\n",
       "0     TESS Toronto emotional speech set data/OAF_ang...      0      young\n",
       "1     TESS Toronto emotional speech set data/OAF_ang...      0      young\n",
       "2     TESS Toronto emotional speech set data/OAF_ang...      0      young\n",
       "3     TESS Toronto emotional speech set data/OAF_ang...      0      young\n",
       "4     TESS Toronto emotional speech set data/OAF_ang...      0      young\n",
       "...                                                 ...    ...        ...\n",
       "2795  TESS Toronto emotional speech set data/YAF_sad...      6        old\n",
       "2796  TESS Toronto emotional speech set data/YAF_sad...      6        old\n",
       "2797  TESS Toronto emotional speech set data/YAF_sad...      6        old\n",
       "2798  TESS Toronto emotional speech set data/YAF_sad...      6        old\n",
       "2799  TESS Toronto emotional speech set data/YAF_sad...      6        old\n",
       "\n",
       "[2800 rows x 3 columns]"
      ]
     },
     "execution_count": 6,
     "metadata": {},
     "output_type": "execute_result"
    }
   ],
   "source": [
    "## adding age factor\n",
    "age_factor = list()\n",
    "for class_ in metadata['class'] :\n",
    "    if class_ < 7 :\n",
    "        age_factor.append('young')\n",
    "    else :\n",
    "        age_factor.append('old')\n",
    "metadata['Age_Factor'] = age_factor\n",
    "\n",
    "df = metadata.copy()\n",
    "\n",
    "def change_class(num_class) :\n",
    "    if (num_class >= 7) :\n",
    "        num_class -= 7\n",
    "    return num_class\n",
    "\n",
    "new_class = df['class'].apply(change_class)\n",
    "\n",
    "df['class'] = new_class\n",
    "\n",
    "df"
   ]
  },
  {
   "cell_type": "markdown",
   "id": "7216239a",
   "metadata": {},
   "source": [
    "## 3. Extracting Data"
   ]
  },
  {
   "cell_type": "markdown",
   "id": "6dd0fb44",
   "metadata": {},
   "source": [
    "The Following Function loads the audio files and return the Audio Signals"
   ]
  },
  {
   "cell_type": "code",
   "execution_count": 7,
   "id": "ef77f00c",
   "metadata": {},
   "outputs": [],
   "source": [
    "def return_audio(files) :\n",
    "    \n",
    "    ## audio signals is the array of all the loaded audio files.\n",
    "    audio_signals = []\n",
    "    \n",
    "    for file_path in files :\n",
    "        ## the load() returns the array of signal and sample rate w.r.t time, for any audio file.\n",
    "        audio, sample_rate = librosa.load(file_path)\n",
    "        audio_signals.append(audio)\n",
    "    \n",
    "    return audio_signals"
   ]
  },
  {
   "cell_type": "code",
   "execution_count": 8,
   "id": "ad6b50f3",
   "metadata": {},
   "outputs": [],
   "source": [
    "audio_signals = return_audio(np.array(df['File_name']))"
   ]
  },
  {
   "cell_type": "code",
   "execution_count": 9,
   "id": "a58de43b",
   "metadata": {},
   "outputs": [],
   "source": [
    "## defining constant sample rate\n",
    "sample_rate = 22050"
   ]
  },
  {
   "cell_type": "markdown",
   "id": "4c4d29ac",
   "metadata": {},
   "source": [
    "## 4. Exploring Data"
   ]
  },
  {
   "cell_type": "code",
   "execution_count": 10,
   "id": "9120c717",
   "metadata": {},
   "outputs": [
    {
     "data": {
      "text/plain": [
       "[-2.4660912e-05,\n",
       " -0.00016105168,\n",
       " -0.00010823388,\n",
       " -0.00014279003,\n",
       " -0.00013913581,\n",
       " -0.00021166893,\n",
       " -0.00018044104,\n",
       " -0.00013524861,\n",
       " -0.00023764782,\n",
       " -0.00024174838]"
      ]
     },
     "execution_count": 10,
     "metadata": {},
     "output_type": "execute_result"
    }
   ],
   "source": [
    "sample_audio = audio_signals[int(np.random.random() * 100)]\n",
    "list(sample_audio[:10])"
   ]
  },
  {
   "cell_type": "code",
   "execution_count": 11,
   "id": "de8c2120",
   "metadata": {
    "scrolled": false
   },
   "outputs": [
    {
     "data": {
      "text/html": [
       "\n",
       "                <audio  controls=\"controls\" >\n",
       "                    <source src=\"data:audio/wav;base64,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\" type=\"audio/wav\" />\n",
       "                    Your browser does not support the audio element.\n",
       "                </audio>\n",
       "              "
      ],
      "text/plain": [
       "<IPython.lib.display.Audio object>"
      ]
     },
     "execution_count": 11,
     "metadata": {},
     "output_type": "execute_result"
    },
    {
     "data": {
      "image/png": "[encoded data removed]",
      "text/plain": [
       "<Figure size 800x200 with 1 Axes>"
      ]
     },
     "metadata": {},
     "output_type": "display_data"
    }
   ],
   "source": [
    "plt.figure(figsize=(8,2))\n",
    "waveshow(sample_audio, sr = sample_rate)\n",
    "Audio(data = sample_audio, rate = sample_rate)"
   ]
  },
  {
   "cell_type": "markdown",
   "id": "03f0e4ce",
   "metadata": {},
   "source": [
    "- The above signal is of TIME DOMAIN\n",
    "> The follwing audio file is converted into an array of signals.\n",
    "- Note: The Audio Signals are represented in the form of array of amplitude in each time instance\n",
    "<img src = \"waveform load.png\" style = \"width:400px;height:200px\"/>"
   ]
  },
  {
   "cell_type": "code",
   "execution_count": 12,
   "id": "1a8d96ed",
   "metadata": {},
   "outputs": [],
   "source": [
    "df.to_csv('Class_ditribution.csv')"
   ]
  },
  {
   "cell_type": "code",
   "execution_count": 26,
   "id": "a9a8bfbb",
   "metadata": {},
   "outputs": [
    {
     "data": {
      "text/plain": [
       "{0: 400, 1: 400, 2: 400, 3: 400, 4: 400, 5: 400, 6: 400}"
      ]
     },
     "execution_count": 26,
     "metadata": {},
     "output_type": "execute_result"
    }
   ],
   "source": [
    "class_distribution = df['class'].value_counts().to_dict()\n",
    "class_distribution"
   ]
  },
  {
   "cell_type": "code",
   "execution_count": 30,
   "id": "d71d1f1c",
   "metadata": {},
   "outputs": [
    {
     "data": {
      "text/plain": [
       "<BarContainer object of 7 artists>"
      ]
     },
     "execution_count": 30,
     "metadata": {},
     "output_type": "execute_result"
    },
    {
     "data": {
      "image/png": "[encoded data removed]",
      "text/plain": [
       "<Figure size 640x480 with 1 Axes>"
      ]
     },
     "metadata": {},
     "output_type": "display_data"
    }
   ],
   "source": [
    "emotions = ['Angry', 'Disgust', 'Fear', 'Happy', 'Neutral', 'Pleasant Surprise', 'Sad']\n",
    "count = list(class_distribution.values())\n",
    "\n",
    "plt.bar(emotions, count, color = 'purple')"
   ]
  },
  {
   "cell_type": "markdown",
   "id": "40ec19b7",
   "metadata": {},
   "source": [
    "## 5. Mel-frequency cepstral coefficients (MFCCs) "
   ]
  },
  {
   "cell_type": "markdown",
   "id": "d4381533",
   "metadata": {},
   "source": [
    "\n",
    "Mel-Frequency Cepstral Coefficients (MFCCs) are a crucial feature extraction technique widely used in the field of audio signal processing and speech recognition. They are particularly important due to their effectiveness in capturing essential patterns and characteristics in audio signals, especially for speech and audio analysis tasks. Here's an explanation of their importance and how they capture patterns in audio\n",
    "\n",
    "MFCCs are needed to Capture Patterns in Audio:\n",
    "\n",
    "- MFCCs capture patterns in audio by breaking down the audio signal into frames (typically around 20-30 milliseconds each).\n",
    "\n",
    "- For each frame, a Fourier Transform is applied to compute the power spectrum of the signal.\n",
    "\n",
    "- The power spectrum is then filtered through a bank of Mel filters, which approximate human auditory perception.\n",
    "\n",
    "- After filtering, the logarithm of the filter bank outputs is taken, followed by a Discrete Cosine Transform (DCT) to obtain the MFCC coefficients.\n",
    "\n",
    "- These coefficients represent the audio signal's spectral content for each frame.\n",
    "\n",
    "<img src = \"mfccs_img.png\" style = \"width:600;height:400px\"/>"
   ]
  },
  {
   "cell_type": "markdown",
   "id": "8fe653f7",
   "metadata": {},
   "source": [
    "#### Extracting MFCCs from Audio Files"
   ]
  },
  {
   "cell_type": "code",
   "execution_count": 13,
   "id": "e241c52f",
   "metadata": {},
   "outputs": [],
   "source": [
    "def extract_MFCCs(audio_signal, sample_rate) :\n",
    "    mfccs = (librosa.feature.mfcc(y = audio_signal, sr = sample_rate, n_mfcc = 13)).T\n",
    "    mfccs = np.mean(mfccs, axis = 0)\n",
    "    return mfccs"
   ]
  },
  {
   "cell_type": "code",
   "execution_count": 14,
   "id": "72a6dafa",
   "metadata": {},
   "outputs": [],
   "source": [
    "sample_rate = 22050\n",
    "mfccs = list()\n",
    "for audio in audio_signals :\n",
    "    mfccs.append(extract_MFCCs(audio , sample_rate))"
   ]
  },
  {
   "cell_type": "code",
   "execution_count": 15,
   "id": "46bba601",
   "metadata": {},
   "outputs": [
    {
     "data": {
      "text/html": [
       "<div>\n",
       "<style scoped>\n",
       "    .dataframe tbody tr th:only-of-type {\n",
       "        vertical-align: middle;\n",
       "    }\n",
       "\n",
       "    .dataframe tbody tr th {\n",
       "        vertical-align: top;\n",
       "    }\n",
       "\n",
       "    .dataframe thead th {\n",
       "        text-align: right;\n",
       "    }\n",
       "</style>\n",
       "<table border=\"1\" class=\"dataframe\">\n",
       "  <thead>\n",
       "    <tr style=\"text-align: right;\">\n",
       "      <th></th>\n",
       "      <th>0</th>\n",
       "      <th>1</th>\n",
       "      <th>2</th>\n",
       "      <th>3</th>\n",
       "      <th>4</th>\n",
       "      <th>5</th>\n",
       "      <th>6</th>\n",
       "      <th>7</th>\n",
       "      <th>8</th>\n",
       "      <th>9</th>\n",
       "      <th>10</th>\n",
       "      <th>11</th>\n",
       "      <th>12</th>\n",
       "    </tr>\n",
       "  </thead>\n",
       "  <tbody>\n",
       "    <tr>\n",
       "      <th>0</th>\n",
       "      <td>-383.432617</td>\n",
       "      <td>52.460812</td>\n",
       "      <td>-17.608944</td>\n",
       "      <td>-11.810311</td>\n",
       "      <td>-4.707630</td>\n",
       "      <td>7.513891</td>\n",
       "      <td>-25.082636</td>\n",
       "      <td>-6.948460</td>\n",
       "      <td>-10.093306</td>\n",
       "      <td>-3.254937</td>\n",
       "      <td>0.281038</td>\n",
       "      <td>0.656696</td>\n",
       "      <td>2.047499</td>\n",
       "    </tr>\n",
       "    <tr>\n",
       "      <th>1</th>\n",
       "      <td>-444.550110</td>\n",
       "      <td>65.292038</td>\n",
       "      <td>-2.571654</td>\n",
       "      <td>-20.355953</td>\n",
       "      <td>-10.516433</td>\n",
       "      <td>10.241208</td>\n",
       "      <td>-9.607938</td>\n",
       "      <td>-1.355310</td>\n",
       "      <td>-12.456924</td>\n",
       "      <td>2.827871</td>\n",
       "      <td>-9.535598</td>\n",
       "      <td>9.995904</td>\n",
       "      <td>-0.791078</td>\n",
       "    </tr>\n",
       "    <tr>\n",
       "      <th>2</th>\n",
       "      <td>-402.192657</td>\n",
       "      <td>26.256584</td>\n",
       "      <td>-5.023631</td>\n",
       "      <td>-0.407520</td>\n",
       "      <td>-0.952224</td>\n",
       "      <td>0.913046</td>\n",
       "      <td>-19.256067</td>\n",
       "      <td>-2.460230</td>\n",
       "      <td>-13.165890</td>\n",
       "      <td>-1.056540</td>\n",
       "      <td>-12.630615</td>\n",
       "      <td>7.668492</td>\n",
       "      <td>-0.763719</td>\n",
       "    </tr>\n",
       "    <tr>\n",
       "      <th>3</th>\n",
       "      <td>-383.497040</td>\n",
       "      <td>52.386791</td>\n",
       "      <td>-11.534899</td>\n",
       "      <td>-13.975940</td>\n",
       "      <td>-3.906754</td>\n",
       "      <td>6.814112</td>\n",
       "      <td>-21.693228</td>\n",
       "      <td>-7.680974</td>\n",
       "      <td>-13.304781</td>\n",
       "      <td>-3.169330</td>\n",
       "      <td>-1.643530</td>\n",
       "      <td>1.388642</td>\n",
       "      <td>0.603746</td>\n",
       "    </tr>\n",
       "    <tr>\n",
       "      <th>4</th>\n",
       "      <td>-398.562683</td>\n",
       "      <td>51.876442</td>\n",
       "      <td>3.370301</td>\n",
       "      <td>8.665921</td>\n",
       "      <td>3.880992</td>\n",
       "      <td>0.732045</td>\n",
       "      <td>-24.158323</td>\n",
       "      <td>7.486300</td>\n",
       "      <td>-19.511465</td>\n",
       "      <td>-12.444627</td>\n",
       "      <td>-11.401490</td>\n",
       "      <td>-1.805533</td>\n",
       "      <td>-4.849055</td>\n",
       "    </tr>\n",
       "    <tr>\n",
       "      <th>...</th>\n",
       "      <td>...</td>\n",
       "      <td>...</td>\n",
       "      <td>...</td>\n",
       "      <td>...</td>\n",
       "      <td>...</td>\n",
       "      <td>...</td>\n",
       "      <td>...</td>\n",
       "      <td>...</td>\n",
       "      <td>...</td>\n",
       "      <td>...</td>\n",
       "      <td>...</td>\n",
       "      <td>...</td>\n",
       "      <td>...</td>\n",
       "    </tr>\n",
       "    <tr>\n",
       "      <th>2795</th>\n",
       "      <td>-391.547699</td>\n",
       "      <td>61.473328</td>\n",
       "      <td>34.779984</td>\n",
       "      <td>42.554768</td>\n",
       "      <td>-2.182075</td>\n",
       "      <td>8.699821</td>\n",
       "      <td>-1.409615</td>\n",
       "      <td>-11.303340</td>\n",
       "      <td>0.550166</td>\n",
       "      <td>-4.555710</td>\n",
       "      <td>-5.787300</td>\n",
       "      <td>5.773145</td>\n",
       "      <td>-6.542877</td>\n",
       "    </tr>\n",
       "    <tr>\n",
       "      <th>2796</th>\n",
       "      <td>-404.340485</td>\n",
       "      <td>76.251541</td>\n",
       "      <td>25.959827</td>\n",
       "      <td>39.575932</td>\n",
       "      <td>0.379420</td>\n",
       "      <td>-0.940992</td>\n",
       "      <td>-6.228340</td>\n",
       "      <td>-14.371888</td>\n",
       "      <td>1.734153</td>\n",
       "      <td>-11.790402</td>\n",
       "      <td>-8.991035</td>\n",
       "      <td>2.880116</td>\n",
       "      <td>-9.387178</td>\n",
       "    </tr>\n",
       "    <tr>\n",
       "      <th>2797</th>\n",
       "      <td>-370.484589</td>\n",
       "      <td>65.668495</td>\n",
       "      <td>38.364941</td>\n",
       "      <td>41.208473</td>\n",
       "      <td>-4.550176</td>\n",
       "      <td>4.382659</td>\n",
       "      <td>-0.712864</td>\n",
       "      <td>-9.426854</td>\n",
       "      <td>2.177757</td>\n",
       "      <td>-7.615240</td>\n",
       "      <td>-7.580241</td>\n",
       "      <td>1.071735</td>\n",
       "      <td>-10.043199</td>\n",
       "    </tr>\n",
       "    <tr>\n",
       "      <th>2798</th>\n",
       "      <td>-423.077972</td>\n",
       "      <td>69.036842</td>\n",
       "      <td>29.720037</td>\n",
       "      <td>37.226368</td>\n",
       "      <td>-3.204174</td>\n",
       "      <td>13.681798</td>\n",
       "      <td>-3.380288</td>\n",
       "      <td>-12.161002</td>\n",
       "      <td>-0.653988</td>\n",
       "      <td>-4.454651</td>\n",
       "      <td>-6.846123</td>\n",
       "      <td>-2.102363</td>\n",
       "      <td>-7.402556</td>\n",
       "    </tr>\n",
       "    <tr>\n",
       "      <th>2799</th>\n",
       "      <td>-409.691040</td>\n",
       "      <td>53.418983</td>\n",
       "      <td>32.701664</td>\n",
       "      <td>39.789028</td>\n",
       "      <td>3.053331</td>\n",
       "      <td>6.652601</td>\n",
       "      <td>-2.778558</td>\n",
       "      <td>-10.420267</td>\n",
       "      <td>2.059204</td>\n",
       "      <td>-8.265667</td>\n",
       "      <td>-3.577104</td>\n",
       "      <td>1.435985</td>\n",
       "      <td>-7.021755</td>\n",
       "    </tr>\n",
       "  </tbody>\n",
       "</table>\n",
       "<p>2800 rows × 13 columns</p>\n",
       "</div>"
      ],
      "text/plain": [
       "              0          1          2          3          4          5   \\\n",
       "0    -383.432617  52.460812 -17.608944 -11.810311  -4.707630   7.513891   \n",
       "1    -444.550110  65.292038  -2.571654 -20.355953 -10.516433  10.241208   \n",
       "2    -402.192657  26.256584  -5.023631  -0.407520  -0.952224   0.913046   \n",
       "3    -383.497040  52.386791 -11.534899 -13.975940  -3.906754   6.814112   \n",
       "4    -398.562683  51.876442   3.370301   8.665921   3.880992   0.732045   \n",
       "...          ...        ...        ...        ...        ...        ...   \n",
       "2795 -391.547699  61.473328  34.779984  42.554768  -2.182075   8.699821   \n",
       "2796 -404.340485  76.251541  25.959827  39.575932   0.379420  -0.940992   \n",
       "2797 -370.484589  65.668495  38.364941  41.208473  -4.550176   4.382659   \n",
       "2798 -423.077972  69.036842  29.720037  37.226368  -3.204174  13.681798   \n",
       "2799 -409.691040  53.418983  32.701664  39.789028   3.053331   6.652601   \n",
       "\n",
       "             6          7          8          9          10        11  \\\n",
       "0    -25.082636  -6.948460 -10.093306  -3.254937   0.281038  0.656696   \n",
       "1     -9.607938  -1.355310 -12.456924   2.827871  -9.535598  9.995904   \n",
       "2    -19.256067  -2.460230 -13.165890  -1.056540 -12.630615  7.668492   \n",
       "3    -21.693228  -7.680974 -13.304781  -3.169330  -1.643530  1.388642   \n",
       "4    -24.158323   7.486300 -19.511465 -12.444627 -11.401490 -1.805533   \n",
       "...         ...        ...        ...        ...        ...       ...   \n",
       "2795  -1.409615 -11.303340   0.550166  -4.555710  -5.787300  5.773145   \n",
       "2796  -6.228340 -14.371888   1.734153 -11.790402  -8.991035  2.880116   \n",
       "2797  -0.712864  -9.426854   2.177757  -7.615240  -7.580241  1.071735   \n",
       "2798  -3.380288 -12.161002  -0.653988  -4.454651  -6.846123 -2.102363   \n",
       "2799  -2.778558 -10.420267   2.059204  -8.265667  -3.577104  1.435985   \n",
       "\n",
       "             12  \n",
       "0      2.047499  \n",
       "1     -0.791078  \n",
       "2     -0.763719  \n",
       "3      0.603746  \n",
       "4     -4.849055  \n",
       "...         ...  \n",
       "2795  -6.542877  \n",
       "2796  -9.387178  \n",
       "2797 -10.043199  \n",
       "2798  -7.402556  \n",
       "2799  -7.021755  \n",
       "\n",
       "[2800 rows x 13 columns]"
      ]
     },
     "execution_count": 15,
     "metadata": {},
     "output_type": "execute_result"
    }
   ],
   "source": [
    "mfccs = pd.DataFrame(mfccs)\n",
    "mfccs"
   ]
  },
  {
   "cell_type": "markdown",
   "id": "8f560719",
   "metadata": {},
   "source": [
    "## 6. Processing Data for Deep Learning"
   ]
  },
  {
   "cell_type": "markdown",
   "id": "f06debe2",
   "metadata": {},
   "source": [
    "#### Train Test Split"
   ]
  },
  {
   "cell_type": "code",
   "execution_count": 16,
   "id": "92971810",
   "metadata": {},
   "outputs": [],
   "source": [
    "feature_data = mfccs.values\n",
    "target = metadata['class']"
   ]
  },
  {
   "cell_type": "code",
   "execution_count": 73,
   "id": "8d2d2dd4",
   "metadata": {},
   "outputs": [],
   "source": [
    "x_train, x_test, y_train, y_test = train_test_split(feature_data, target, random_state = 42)"
   ]
  },
  {
   "cell_type": "markdown",
   "id": "e83dc2ef",
   "metadata": {},
   "source": [
    "#### Checking Shapes"
   ]
  },
  {
   "cell_type": "code",
   "execution_count": 74,
   "id": "516f1df8",
   "metadata": {},
   "outputs": [
    {
     "data": {
      "text/plain": [
       "((2100, 13), (700, 13), (2100,), (700,))"
      ]
     },
     "execution_count": 74,
     "metadata": {},
     "output_type": "execute_result"
    }
   ],
   "source": [
    "x_train.shape, x_test.shape, y_train.shape, y_test.shape"
   ]
  },
  {
   "cell_type": "markdown",
   "id": "43b1fb05",
   "metadata": {},
   "source": [
    "#### Converting Data w.r.t Neural Network"
   ]
  },
  {
   "cell_type": "code",
   "execution_count": 75,
   "id": "f94ac47f",
   "metadata": {},
   "outputs": [],
   "source": [
    "x_train_reshaped = x_train.reshape(x_train.shape[0], 13, 1)\n",
    "y_train_reshaped = to_categorical(y_train, num_classes=len(set(target)), dtype='int')\n",
    "x_test_reshaped = x_test.reshape(x_test.shape[0], 13, 1)\n",
    "y_test_reshaped = to_categorical(y_test, num_classes=len(set(target)), dtype='int')"
   ]
  },
  {
   "cell_type": "markdown",
   "id": "bb320d7a",
   "metadata": {},
   "source": [
    "## 7. Setting up Model for Deep Learning"
   ]
  },
  {
   "cell_type": "markdown",
   "id": "9635adb9",
   "metadata": {},
   "source": [
    "#### The Model that will be used will be a Sequentioal Convolutional Neural Networks\n",
    "<img src = \"CNN_img.jpg\"/>\n",
    "\n",
    "#### Why CNN?\n",
    "Convolutional Neural Networks (CNNs) are primarily associated with image processing, but they can also be adapted for audio classification tasks, such as speech recognition, music genre classification, or environmental sound classification. To apply CNNs to audio data, we can use a spectrogram representation and follow a similar architecture as in image-based CNNs"
   ]
  },
  {
   "cell_type": "markdown",
   "id": "9d03b7d2",
   "metadata": {},
   "source": [
    "#### Model Creation"
   ]
  },
  {
   "cell_type": "code",
   "execution_count": 76,
   "id": "cef66e85",
   "metadata": {},
   "outputs": [],
   "source": [
    "class Audio_Classification :\n",
    "    \n",
    "    def __init__(self) :\n",
    "        self.model = Sequential()\n",
    "        input_shape = (13, 1)\n",
    "        self.model.add(Conv1D(32, kernel_size=3, activation='selu', input_shape=input_shape))\n",
    "        self.model.add(MaxPooling1D(pool_size=2))\n",
    "        self.model.add(Conv1D(64, kernel_size=3, activation='selu'))\n",
    "        self.model.add(MaxPooling1D(pool_size=2))\n",
    "        self.model.add(Flatten())\n",
    "        self.model.add(Dense(128, activation='selu'))\n",
    "        self.model.add(Dense(14, activation='softmax'))\n",
    "        self.model.compile(loss = 'CategoricalCrossentropy', optimizer = 'adam', metrics = ['accuracy'])\n",
    "    \n",
    "    def fit(self, x, y, epochs, validation) :\n",
    "        self.model.fit(x, y, epochs = epochs, validation_data = validation)\n",
    "\n",
    "    def predict(self, x) :\n",
    "        y_pred = self.model.predict(x)\n",
    "        for i in range(len(y_pred)) :\n",
    "            y_pred[i] = np.argmax(y_pred[i])\n",
    "        y_pred = np.array(y_pred[:, 0], dtype = int)\n",
    "        return y_pred"
   ]
  },
  {
   "cell_type": "markdown",
   "id": "2a29d86d",
   "metadata": {},
   "source": [
    "## 8. Training and Testing"
   ]
  },
  {
   "cell_type": "markdown",
   "id": "3b88b4ce",
   "metadata": {},
   "source": [
    "#### Creating Classifier"
   ]
  },
  {
   "cell_type": "code",
   "execution_count": 77,
   "id": "2d6098a4",
   "metadata": {},
   "outputs": [],
   "source": [
    "clf = Audio_Classification()"
   ]
  },
  {
   "cell_type": "markdown",
   "id": "ffdc6df3",
   "metadata": {},
   "source": [
    "#### Training"
   ]
  },
  {
   "cell_type": "code",
   "execution_count": 78,
   "id": "ccbc41fa",
   "metadata": {},
   "outputs": [
    {
     "name": "stdout",
     "output_type": "stream",
     "text": [
      "Epoch 1/120\n",
      "66/66 [==============================] - 1s 4ms/step - loss: 2.1138 - accuracy: 0.4686 - val_loss: 0.8650 - val_accuracy: 0.7271\n",
      "Epoch 2/120\n",
      "66/66 [==============================] - 0s 2ms/step - loss: 0.6654 - accuracy: 0.7581 - val_loss: 0.5350 - val_accuracy: 0.8157\n",
      "Epoch 3/120\n",
      "66/66 [==============================] - 0s 2ms/step - loss: 0.5363 - accuracy: 0.8129 - val_loss: 0.4183 - val_accuracy: 0.8429\n",
      "Epoch 4/120\n",
      "66/66 [==============================] - 0s 2ms/step - loss: 0.4658 - accuracy: 0.8452 - val_loss: 0.3882 - val_accuracy: 0.8571\n",
      "Epoch 5/120\n",
      "66/66 [==============================] - 0s 2ms/step - loss: 0.4332 - accuracy: 0.8476 - val_loss: 0.3608 - val_accuracy: 0.8600\n",
      "Epoch 6/120\n",
      "66/66 [==============================] - 0s 2ms/step - loss: 0.3465 - accuracy: 0.8776 - val_loss: 0.3413 - val_accuracy: 0.8771\n",
      "Epoch 7/120\n",
      "66/66 [==============================] - 0s 2ms/step - loss: 0.3499 - accuracy: 0.8662 - val_loss: 0.4027 - val_accuracy: 0.8571\n",
      "Epoch 8/120\n",
      "66/66 [==============================] - 0s 2ms/step - loss: 0.3432 - accuracy: 0.8790 - val_loss: 0.3472 - val_accuracy: 0.8800\n",
      "Epoch 9/120\n",
      "66/66 [==============================] - 0s 2ms/step - loss: 0.3189 - accuracy: 0.8824 - val_loss: 0.3655 - val_accuracy: 0.8700\n",
      "Epoch 10/120\n",
      "66/66 [==============================] - 0s 2ms/step - loss: 0.3105 - accuracy: 0.8852 - val_loss: 0.3624 - val_accuracy: 0.8629\n",
      "Epoch 11/120\n",
      "66/66 [==============================] - 0s 2ms/step - loss: 0.3264 - accuracy: 0.8805 - val_loss: 0.3552 - val_accuracy: 0.8886\n",
      "Epoch 12/120\n",
      "66/66 [==============================] - 0s 2ms/step - loss: 0.3127 - accuracy: 0.8838 - val_loss: 0.3379 - val_accuracy: 0.8757\n",
      "Epoch 13/120\n",
      "66/66 [==============================] - 0s 2ms/step - loss: 0.2719 - accuracy: 0.8967 - val_loss: 0.3143 - val_accuracy: 0.8814\n",
      "Epoch 14/120\n",
      "66/66 [==============================] - 0s 2ms/step - loss: 0.2547 - accuracy: 0.9071 - val_loss: 0.3444 - val_accuracy: 0.8671\n",
      "Epoch 15/120\n",
      "66/66 [==============================] - 0s 2ms/step - loss: 0.2498 - accuracy: 0.9067 - val_loss: 0.3168 - val_accuracy: 0.8757\n",
      "Epoch 16/120\n",
      "66/66 [==============================] - 0s 2ms/step - loss: 0.2501 - accuracy: 0.9119 - val_loss: 0.2863 - val_accuracy: 0.8971\n",
      "Epoch 17/120\n",
      "66/66 [==============================] - 0s 2ms/step - loss: 0.2374 - accuracy: 0.9081 - val_loss: 0.3305 - val_accuracy: 0.8829\n",
      "Epoch 18/120\n",
      "66/66 [==============================] - 0s 2ms/step - loss: 0.2599 - accuracy: 0.9005 - val_loss: 0.3333 - val_accuracy: 0.8857\n",
      "Epoch 19/120\n",
      "66/66 [==============================] - 0s 2ms/step - loss: 0.2325 - accuracy: 0.9200 - val_loss: 0.3099 - val_accuracy: 0.8914\n",
      "Epoch 20/120\n",
      "66/66 [==============================] - 0s 2ms/step - loss: 0.2319 - accuracy: 0.9148 - val_loss: 0.3699 - val_accuracy: 0.8671\n",
      "Epoch 21/120\n",
      "66/66 [==============================] - 0s 2ms/step - loss: 0.2271 - accuracy: 0.9076 - val_loss: 0.3816 - val_accuracy: 0.8586\n",
      "Epoch 22/120\n",
      "66/66 [==============================] - 0s 2ms/step - loss: 0.2157 - accuracy: 0.9200 - val_loss: 0.2878 - val_accuracy: 0.8914\n",
      "Epoch 23/120\n",
      "66/66 [==============================] - 0s 2ms/step - loss: 0.2264 - accuracy: 0.9119 - val_loss: 0.3028 - val_accuracy: 0.8800\n",
      "Epoch 24/120\n",
      "66/66 [==============================] - 0s 2ms/step - loss: 0.2295 - accuracy: 0.9133 - val_loss: 0.3194 - val_accuracy: 0.8771\n",
      "Epoch 25/120\n",
      "66/66 [==============================] - 0s 2ms/step - loss: 0.2118 - accuracy: 0.9238 - val_loss: 0.3085 - val_accuracy: 0.8771\n",
      "Epoch 26/120\n",
      "66/66 [==============================] - 0s 2ms/step - loss: 0.2069 - accuracy: 0.9200 - val_loss: 0.3726 - val_accuracy: 0.8686\n",
      "Epoch 27/120\n",
      "66/66 [==============================] - 0s 2ms/step - loss: 0.2196 - accuracy: 0.9133 - val_loss: 0.3080 - val_accuracy: 0.8971\n",
      "Epoch 28/120\n",
      "66/66 [==============================] - 0s 2ms/step - loss: 0.1862 - accuracy: 0.9252 - val_loss: 0.3698 - val_accuracy: 0.8814\n",
      "Epoch 29/120\n",
      "66/66 [==============================] - 0s 2ms/step - loss: 0.1946 - accuracy: 0.9286 - val_loss: 0.2904 - val_accuracy: 0.8900\n",
      "Epoch 30/120\n",
      "66/66 [==============================] - 0s 2ms/step - loss: 0.1870 - accuracy: 0.9310 - val_loss: 0.3479 - val_accuracy: 0.8643\n",
      "Epoch 31/120\n",
      "66/66 [==============================] - 0s 2ms/step - loss: 0.1756 - accuracy: 0.9362 - val_loss: 0.3484 - val_accuracy: 0.8629\n",
      "Epoch 32/120\n",
      "66/66 [==============================] - 0s 2ms/step - loss: 0.1727 - accuracy: 0.9386 - val_loss: 0.3026 - val_accuracy: 0.9014\n",
      "Epoch 33/120\n",
      "66/66 [==============================] - 0s 3ms/step - loss: 0.1744 - accuracy: 0.9352 - val_loss: 0.2977 - val_accuracy: 0.9029\n",
      "Epoch 34/120\n",
      "66/66 [==============================] - 0s 2ms/step - loss: 0.1627 - accuracy: 0.9343 - val_loss: 0.3436 - val_accuracy: 0.8700\n",
      "Epoch 35/120\n",
      "66/66 [==============================] - 0s 2ms/step - loss: 0.1613 - accuracy: 0.9386 - val_loss: 0.3094 - val_accuracy: 0.8957\n",
      "Epoch 36/120\n",
      "66/66 [==============================] - 0s 2ms/step - loss: 0.1464 - accuracy: 0.9448 - val_loss: 0.3921 - val_accuracy: 0.8629\n",
      "Epoch 37/120\n",
      "66/66 [==============================] - 0s 2ms/step - loss: 0.1580 - accuracy: 0.9433 - val_loss: 0.3258 - val_accuracy: 0.8900\n",
      "Epoch 38/120\n",
      "66/66 [==============================] - 0s 2ms/step - loss: 0.1495 - accuracy: 0.9390 - val_loss: 0.3244 - val_accuracy: 0.8900\n",
      "Epoch 39/120\n",
      "66/66 [==============================] - 0s 2ms/step - loss: 0.1356 - accuracy: 0.9486 - val_loss: 0.2864 - val_accuracy: 0.8986\n",
      "Epoch 40/120\n",
      "66/66 [==============================] - 0s 2ms/step - loss: 0.1330 - accuracy: 0.9519 - val_loss: 0.4196 - val_accuracy: 0.8600\n",
      "Epoch 41/120\n",
      "66/66 [==============================] - 0s 2ms/step - loss: 0.1636 - accuracy: 0.9300 - val_loss: 0.3407 - val_accuracy: 0.8857\n",
      "Epoch 42/120\n",
      "66/66 [==============================] - 0s 2ms/step - loss: 0.1541 - accuracy: 0.9410 - val_loss: 0.3248 - val_accuracy: 0.8829\n",
      "Epoch 43/120\n",
      "66/66 [==============================] - 0s 2ms/step - loss: 0.1251 - accuracy: 0.9543 - val_loss: 0.3061 - val_accuracy: 0.8957\n",
      "Epoch 44/120\n",
      "66/66 [==============================] - 0s 2ms/step - loss: 0.1178 - accuracy: 0.9581 - val_loss: 0.3712 - val_accuracy: 0.8857\n",
      "Epoch 45/120\n",
      "66/66 [==============================] - 0s 2ms/step - loss: 0.1429 - accuracy: 0.9438 - val_loss: 0.3286 - val_accuracy: 0.8900\n",
      "Epoch 46/120\n",
      "66/66 [==============================] - 0s 2ms/step - loss: 0.1588 - accuracy: 0.9429 - val_loss: 0.3208 - val_accuracy: 0.8914\n",
      "Epoch 47/120\n",
      "66/66 [==============================] - 0s 2ms/step - loss: 0.1465 - accuracy: 0.9462 - val_loss: 0.3347 - val_accuracy: 0.8914\n",
      "Epoch 48/120\n",
      "66/66 [==============================] - 0s 2ms/step - loss: 0.1146 - accuracy: 0.9605 - val_loss: 0.3242 - val_accuracy: 0.8857\n",
      "Epoch 49/120\n",
      "66/66 [==============================] - 0s 2ms/step - loss: 0.1125 - accuracy: 0.9495 - val_loss: 0.3328 - val_accuracy: 0.8986\n",
      "Epoch 50/120\n",
      "66/66 [==============================] - 0s 2ms/step - loss: 0.1266 - accuracy: 0.9533 - val_loss: 0.4203 - val_accuracy: 0.8729\n",
      "Epoch 51/120\n",
      "66/66 [==============================] - 0s 2ms/step - loss: 0.1441 - accuracy: 0.9424 - val_loss: 0.4170 - val_accuracy: 0.8729\n",
      "Epoch 52/120\n",
      "66/66 [==============================] - 0s 2ms/step - loss: 0.1426 - accuracy: 0.9452 - val_loss: 0.3511 - val_accuracy: 0.8886\n",
      "Epoch 53/120\n",
      "66/66 [==============================] - 0s 2ms/step - loss: 0.1009 - accuracy: 0.9629 - val_loss: 0.3592 - val_accuracy: 0.8843\n",
      "Epoch 54/120\n",
      "66/66 [==============================] - 0s 2ms/step - loss: 0.1255 - accuracy: 0.9533 - val_loss: 0.3777 - val_accuracy: 0.8857\n",
      "Epoch 55/120\n",
      "66/66 [==============================] - 0s 2ms/step - loss: 0.0789 - accuracy: 0.9762 - val_loss: 0.4015 - val_accuracy: 0.8657\n",
      "Epoch 56/120\n",
      "66/66 [==============================] - 0s 3ms/step - loss: 0.0960 - accuracy: 0.9643 - val_loss: 0.3742 - val_accuracy: 0.8843\n",
      "Epoch 57/120\n",
      "66/66 [==============================] - 0s 2ms/step - loss: 0.1274 - accuracy: 0.9490 - val_loss: 0.4296 - val_accuracy: 0.8757\n",
      "Epoch 58/120\n",
      "66/66 [==============================] - 0s 2ms/step - loss: 0.1169 - accuracy: 0.9562 - val_loss: 0.3614 - val_accuracy: 0.8914\n"
     ]
    },
    {
     "name": "stdout",
     "output_type": "stream",
     "text": [
      "Epoch 59/120\n",
      "66/66 [==============================] - 0s 2ms/step - loss: 0.0901 - accuracy: 0.9662 - val_loss: 0.3805 - val_accuracy: 0.8900\n",
      "Epoch 60/120\n",
      "66/66 [==============================] - 0s 2ms/step - loss: 0.0790 - accuracy: 0.9743 - val_loss: 0.3618 - val_accuracy: 0.8843\n",
      "Epoch 61/120\n",
      "66/66 [==============================] - 0s 2ms/step - loss: 0.0860 - accuracy: 0.9657 - val_loss: 0.4343 - val_accuracy: 0.8729\n",
      "Epoch 62/120\n",
      "66/66 [==============================] - 0s 2ms/step - loss: 0.1451 - accuracy: 0.9476 - val_loss: 0.4415 - val_accuracy: 0.8843\n",
      "Epoch 63/120\n",
      "66/66 [==============================] - 0s 2ms/step - loss: 0.1154 - accuracy: 0.9562 - val_loss: 0.3953 - val_accuracy: 0.8786\n",
      "Epoch 64/120\n",
      "66/66 [==============================] - 0s 2ms/step - loss: 0.1116 - accuracy: 0.9586 - val_loss: 0.3999 - val_accuracy: 0.8857\n",
      "Epoch 65/120\n",
      "66/66 [==============================] - 0s 2ms/step - loss: 0.1064 - accuracy: 0.9614 - val_loss: 0.3696 - val_accuracy: 0.8843\n",
      "Epoch 66/120\n",
      "66/66 [==============================] - 0s 2ms/step - loss: 0.0929 - accuracy: 0.9643 - val_loss: 0.3481 - val_accuracy: 0.9014\n",
      "Epoch 67/120\n",
      "66/66 [==============================] - 0s 3ms/step - loss: 0.0679 - accuracy: 0.9795 - val_loss: 0.3810 - val_accuracy: 0.8971\n",
      "Epoch 68/120\n",
      "66/66 [==============================] - 0s 2ms/step - loss: 0.0853 - accuracy: 0.9719 - val_loss: 0.3775 - val_accuracy: 0.8900\n",
      "Epoch 69/120\n",
      "66/66 [==============================] - 0s 2ms/step - loss: 0.0730 - accuracy: 0.9705 - val_loss: 0.4012 - val_accuracy: 0.8914\n",
      "Epoch 70/120\n",
      "66/66 [==============================] - 0s 3ms/step - loss: 0.0996 - accuracy: 0.9629 - val_loss: 0.4971 - val_accuracy: 0.8743\n",
      "Epoch 71/120\n",
      "66/66 [==============================] - 0s 2ms/step - loss: 0.0839 - accuracy: 0.9652 - val_loss: 0.4443 - val_accuracy: 0.8757\n",
      "Epoch 72/120\n",
      "66/66 [==============================] - 0s 3ms/step - loss: 0.0628 - accuracy: 0.9781 - val_loss: 0.4334 - val_accuracy: 0.8686\n",
      "Epoch 73/120\n",
      "66/66 [==============================] - 0s 2ms/step - loss: 0.0821 - accuracy: 0.9710 - val_loss: 0.3871 - val_accuracy: 0.8886\n",
      "Epoch 74/120\n",
      "66/66 [==============================] - 0s 2ms/step - loss: 0.0832 - accuracy: 0.9700 - val_loss: 0.3984 - val_accuracy: 0.8829\n",
      "Epoch 75/120\n",
      "66/66 [==============================] - 0s 2ms/step - loss: 0.0783 - accuracy: 0.9705 - val_loss: 0.4868 - val_accuracy: 0.8743\n",
      "Epoch 76/120\n",
      "66/66 [==============================] - 0s 2ms/step - loss: 0.0833 - accuracy: 0.9690 - val_loss: 0.4125 - val_accuracy: 0.8843\n",
      "Epoch 77/120\n",
      "66/66 [==============================] - 0s 2ms/step - loss: 0.0620 - accuracy: 0.9752 - val_loss: 0.4437 - val_accuracy: 0.8786\n",
      "Epoch 78/120\n",
      "66/66 [==============================] - 0s 2ms/step - loss: 0.0741 - accuracy: 0.9724 - val_loss: 0.3940 - val_accuracy: 0.8829\n",
      "Epoch 79/120\n",
      "66/66 [==============================] - 0s 2ms/step - loss: 0.0686 - accuracy: 0.9748 - val_loss: 0.4340 - val_accuracy: 0.8843\n",
      "Epoch 80/120\n",
      "66/66 [==============================] - 0s 2ms/step - loss: 0.0592 - accuracy: 0.9786 - val_loss: 0.4232 - val_accuracy: 0.8843\n",
      "Epoch 81/120\n",
      "66/66 [==============================] - 0s 2ms/step - loss: 0.0560 - accuracy: 0.9795 - val_loss: 0.5635 - val_accuracy: 0.8700\n",
      "Epoch 82/120\n",
      "66/66 [==============================] - 0s 2ms/step - loss: 0.1093 - accuracy: 0.9600 - val_loss: 0.4434 - val_accuracy: 0.8929\n",
      "Epoch 83/120\n",
      "66/66 [==============================] - 0s 2ms/step - loss: 0.0804 - accuracy: 0.9690 - val_loss: 0.4932 - val_accuracy: 0.8871\n",
      "Epoch 84/120\n",
      "66/66 [==============================] - 0s 3ms/step - loss: 0.0541 - accuracy: 0.9805 - val_loss: 0.5203 - val_accuracy: 0.8686\n",
      "Epoch 85/120\n",
      "66/66 [==============================] - 0s 2ms/step - loss: 0.0513 - accuracy: 0.9819 - val_loss: 0.4498 - val_accuracy: 0.8929\n",
      "Epoch 86/120\n",
      "66/66 [==============================] - 0s 2ms/step - loss: 0.0370 - accuracy: 0.9910 - val_loss: 0.4451 - val_accuracy: 0.8957\n",
      "Epoch 87/120\n",
      "66/66 [==============================] - 0s 2ms/step - loss: 0.0451 - accuracy: 0.9852 - val_loss: 0.4906 - val_accuracy: 0.8843\n",
      "Epoch 88/120\n",
      "66/66 [==============================] - 0s 3ms/step - loss: 0.0553 - accuracy: 0.9800 - val_loss: 0.4703 - val_accuracy: 0.8843\n",
      "Epoch 89/120\n",
      "66/66 [==============================] - 0s 2ms/step - loss: 0.0837 - accuracy: 0.9700 - val_loss: 0.5515 - val_accuracy: 0.8729\n",
      "Epoch 90/120\n",
      "66/66 [==============================] - 0s 2ms/step - loss: 0.1220 - accuracy: 0.9548 - val_loss: 0.5588 - val_accuracy: 0.8857\n",
      "Epoch 91/120\n",
      "66/66 [==============================] - 0s 3ms/step - loss: 0.0748 - accuracy: 0.9686 - val_loss: 0.4893 - val_accuracy: 0.8757\n",
      "Epoch 92/120\n",
      "66/66 [==============================] - 0s 3ms/step - loss: 0.0508 - accuracy: 0.9819 - val_loss: 0.4751 - val_accuracy: 0.8914\n",
      "Epoch 93/120\n",
      "66/66 [==============================] - 0s 2ms/step - loss: 0.0402 - accuracy: 0.9852 - val_loss: 0.4742 - val_accuracy: 0.8929\n",
      "Epoch 94/120\n",
      "66/66 [==============================] - 0s 2ms/step - loss: 0.0473 - accuracy: 0.9852 - val_loss: 0.4608 - val_accuracy: 0.8814\n",
      "Epoch 95/120\n",
      "66/66 [==============================] - 0s 2ms/step - loss: 0.0382 - accuracy: 0.9857 - val_loss: 0.4476 - val_accuracy: 0.8786\n",
      "Epoch 96/120\n",
      "66/66 [==============================] - 0s 2ms/step - loss: 0.0461 - accuracy: 0.9824 - val_loss: 0.4789 - val_accuracy: 0.8786\n",
      "Epoch 97/120\n",
      "66/66 [==============================] - 0s 2ms/step - loss: 0.0577 - accuracy: 0.9762 - val_loss: 0.5799 - val_accuracy: 0.8586\n",
      "Epoch 98/120\n",
      "66/66 [==============================] - 0s 3ms/step - loss: 0.0472 - accuracy: 0.9867 - val_loss: 0.4949 - val_accuracy: 0.8900\n",
      "Epoch 99/120\n",
      "66/66 [==============================] - 0s 3ms/step - loss: 0.0296 - accuracy: 0.9895 - val_loss: 0.4772 - val_accuracy: 0.9000\n",
      "Epoch 100/120\n",
      "66/66 [==============================] - 0s 2ms/step - loss: 0.0403 - accuracy: 0.9871 - val_loss: 0.4836 - val_accuracy: 0.8857\n",
      "Epoch 101/120\n",
      "66/66 [==============================] - 0s 3ms/step - loss: 0.0793 - accuracy: 0.9710 - val_loss: 0.6102 - val_accuracy: 0.8700\n",
      "Epoch 102/120\n",
      "66/66 [==============================] - 0s 2ms/step - loss: 0.0857 - accuracy: 0.9710 - val_loss: 0.5940 - val_accuracy: 0.8757\n",
      "Epoch 103/120\n",
      "66/66 [==============================] - 0s 3ms/step - loss: 0.1160 - accuracy: 0.9590 - val_loss: 0.5742 - val_accuracy: 0.8686\n",
      "Epoch 104/120\n",
      "66/66 [==============================] - 0s 2ms/step - loss: 0.0751 - accuracy: 0.9729 - val_loss: 0.5670 - val_accuracy: 0.8729\n",
      "Epoch 105/120\n",
      "66/66 [==============================] - 0s 2ms/step - loss: 0.0448 - accuracy: 0.9833 - val_loss: 0.5037 - val_accuracy: 0.8814\n",
      "Epoch 106/120\n",
      "66/66 [==============================] - 0s 2ms/step - loss: 0.0294 - accuracy: 0.9871 - val_loss: 0.4653 - val_accuracy: 0.9000\n",
      "Epoch 107/120\n",
      "66/66 [==============================] - 0s 3ms/step - loss: 0.0198 - accuracy: 0.9952 - val_loss: 0.4964 - val_accuracy: 0.8829\n",
      "Epoch 108/120\n",
      "66/66 [==============================] - 0s 2ms/step - loss: 0.0118 - accuracy: 0.9971 - val_loss: 0.4894 - val_accuracy: 0.8900\n",
      "Epoch 109/120\n",
      "66/66 [==============================] - 0s 2ms/step - loss: 0.0138 - accuracy: 0.9971 - val_loss: 0.4914 - val_accuracy: 0.8857\n",
      "Epoch 110/120\n",
      "66/66 [==============================] - 0s 2ms/step - loss: 0.0095 - accuracy: 0.9990 - val_loss: 0.4786 - val_accuracy: 0.8886\n",
      "Epoch 111/120\n",
      "66/66 [==============================] - 0s 2ms/step - loss: 0.0145 - accuracy: 0.9971 - val_loss: 0.4951 - val_accuracy: 0.8914\n",
      "Epoch 112/120\n",
      "66/66 [==============================] - 0s 2ms/step - loss: 0.0107 - accuracy: 0.9990 - val_loss: 0.4750 - val_accuracy: 0.8957\n",
      "Epoch 113/120\n",
      "66/66 [==============================] - 0s 2ms/step - loss: 0.0181 - accuracy: 0.9943 - val_loss: 0.4760 - val_accuracy: 0.8914\n",
      "Epoch 114/120\n",
      "66/66 [==============================] - 0s 2ms/step - loss: 0.0304 - accuracy: 0.9886 - val_loss: 0.5680 - val_accuracy: 0.8771\n",
      "Epoch 115/120\n",
      "66/66 [==============================] - 0s 2ms/step - loss: 0.0387 - accuracy: 0.9852 - val_loss: 0.5578 - val_accuracy: 0.8800\n",
      "Epoch 116/120\n"
     ]
    },
    {
     "name": "stdout",
     "output_type": "stream",
     "text": [
      "66/66 [==============================] - 0s 2ms/step - loss: 0.0670 - accuracy: 0.9752 - val_loss: 0.6734 - val_accuracy: 0.8614\n",
      "Epoch 117/120\n",
      "66/66 [==============================] - 0s 2ms/step - loss: 0.1026 - accuracy: 0.9624 - val_loss: 0.6547 - val_accuracy: 0.8786\n",
      "Epoch 118/120\n",
      "66/66 [==============================] - 0s 2ms/step - loss: 0.0879 - accuracy: 0.9690 - val_loss: 0.6177 - val_accuracy: 0.8757\n",
      "Epoch 119/120\n",
      "66/66 [==============================] - 0s 2ms/step - loss: 0.0732 - accuracy: 0.9676 - val_loss: 0.5505 - val_accuracy: 0.8829\n",
      "Epoch 120/120\n",
      "66/66 [==============================] - 0s 2ms/step - loss: 0.0252 - accuracy: 0.9929 - val_loss: 0.5192 - val_accuracy: 0.8957\n"
     ]
    }
   ],
   "source": [
    "clf.fit(x_train_reshaped, y_train_reshaped, epochs = 120, validation = (x_test_reshaped, y_test_reshaped))"
   ]
  },
  {
   "cell_type": "markdown",
   "id": "9a29d444",
   "metadata": {},
   "source": [
    "#### Testing"
   ]
  },
  {
   "cell_type": "code",
   "execution_count": 79,
   "id": "4397dde9",
   "metadata": {},
   "outputs": [
    {
     "name": "stdout",
     "output_type": "stream",
     "text": [
      "22/22 [==============================] - 0s 1ms/step\n"
     ]
    },
    {
     "data": {
      "text/plain": [
       "array([ 5,  3, 10,  5,  9,  8,  6,  7, 11,  5, 12, 12, 10,  5, 10,  2,  3,\n",
       "       13,  1,  5,  4,  7,  2,  6,  3,  2, 12,  4, 12,  6,  4,  2,  7,  3,\n",
       "       10,  3,  1,  4,  7, 13,  9,  7, 10,  1, 13,  2,  7, 11,  6,  3,  8,\n",
       "        4,  4,  2,  5,  3,  9, 11,  9,  8,  2,  6, 13, 11, 12, 11,  7,  8,\n",
       "        6, 10,  5,  2,  8, 12,  9, 13, 11, 13,  3,  0,  5,  0,  7,  6, 13,\n",
       "        4,  8,  1, 13,  2,  1,  2,  3, 11,  7, 13,  4,  5,  5, 10, 10,  6,\n",
       "       12, 12,  6,  2,  6,  9,  3, 13,  4,  4, 11,  0,  3,  2,  7,  0,  5,\n",
       "        2, 10, 13, 11,  7, 10,  6,  0,  6,  3, 12,  5,  2,  1, 12, 12,  2,\n",
       "       10,  0,  5,  4,  0,  5, 11, 11,  0,  6, 11,  0,  4, 10, 13,  5, 11,\n",
       "        6, 12, 12,  7,  3, 10,  8,  4,  2, 11,  1,  8,  8,  4,  7,  0, 12,\n",
       "        7, 12,  8,  2,  8, 10, 11,  0, 12,  0,  4,  5,  0, 10,  6, 13, 13,\n",
       "        8, 11,  1,  2,  7,  5,  4,  2, 12,  6,  7,  2, 12,  5,  3,  2, 11,\n",
       "        3, 13,  9,  2, 10, 11,  0,  7, 10,  6,  5,  0,  9,  7,  6,  6, 13,\n",
       "        1,  9,  4, 12,  4,  7,  3,  5,  2,  6,  6,  0,  5, 12,  1,  2,  9,\n",
       "       10, 12,  6,  4,  7,  9,  8, 10,  8,  6,  6, 11, 10,  3,  9,  9,  2,\n",
       "        1,  5,  3,  2,  4,  5, 11,  1,  7,  1,  2,  1,  4,  5,  7, 10,  8,\n",
       "       11,  4,  3, 11,  0, 13,  4,  6, 11,  3,  6,  0,  0,  5,  0,  0,  2,\n",
       "       11,  5, 12,  5, 11,  6,  8, 11, 11,  0,  8, 11,  9, 10,  9, 11,  0,\n",
       "        5,  3,  4, 11,  1, 11, 10, 13,  5,  8,  1,  8,  6, 10,  0, 10,  9,\n",
       "        2,  6, 12,  2, 10,  0, 11,  5,  1,  3,  5, 12,  6,  9,  2,  3,  7,\n",
       "        5,  9,  3,  0,  7,  5,  2, 10,  8,  0,  6, 11,  6,  1, 13,  3,  2,\n",
       "        0,  8, 10, 13, 12,  6,  4,  7,  6,  3,  5, 12,  4,  3,  7,  1,  9,\n",
       "        9,  1,  4,  4, 10,  9,  8, 10, 11,  0, 10,  7,  0,  1,  6, 13,  9,\n",
       "        4,  8,  1,  8,  2,  0,  9,  2,  1,  1, 11,  5,  8,  8,  3,  9, 12,\n",
       "        3,  7, 13,  4, 12, 10,  2, 12,  6, 13,  0,  9, 11, 10, 13,  2,  2,\n",
       "       11,  2, 12,  1,  1, 11,  5,  0,  0,  7,  9,  7,  9,  8,  3,  9,  2,\n",
       "       13,  8,  7,  7, 12,  3, 12, 12,  3,  6,  1,  9, 10, 11,  2,  3,  1,\n",
       "       10,  2,  4,  5,  5,  3,  1,  2,  5, 10,  8,  4,  5,  6, 12, 13,  5,\n",
       "       12,  2,  9,  6, 11, 13,  9,  8,  7,  6,  3,  9,  8, 12,  8, 13,  4,\n",
       "        6,  1,  6,  0,  2,  5,  0,  1, 11, 11,  3,  8,  5, 11, 12,  6,  6,\n",
       "       12, 13, 10,  5,  3, 10,  3,  1,  6,  3,  4,  9,  6, 13,  7, 10,  8,\n",
       "       12, 10,  1,  7,  2,  9,  5, 13,  4,  3,  9,  8,  2,  4,  5, 12,  0,\n",
       "        9,  0,  9,  1,  8, 10,  8, 10, 12, 10, 10,  3,  5,  5,  3, 11,  2,\n",
       "        4,  0,  8,  7,  4,  5, 13,  4, 10,  0,  5,  3,  4, 10, 10,  1, 12,\n",
       "       11,  7,  8,  0,  7, 12, 10,  5, 13,  2, 13, 11, 13,  8,  4, 11,  8,\n",
       "        9, 12,  8,  9,  6,  1,  8,  9,  1,  7, 13,  7,  5, 12,  3, 12,  0,\n",
       "        5,  5,  6,  4,  6, 11,  9,  8,  5,  8,  7,  4,  1,  7,  8,  4,  7,\n",
       "        6,  0, 10,  7,  2,  1,  7, 10, 11,  4,  9,  3, 10,  0,  7, 13, 10,\n",
       "        4,  3, 12,  5,  3,  3, 13,  6, 10,  8,  1,  5,  3,  4,  7, 11,  7,\n",
       "        3, 13,  0, 12,  2,  3,  0,  9,  3,  3, 10,  4,  7,  9,  6,  3,  7,\n",
       "        3,  5,  8,  6,  2,  8,  4, 12,  7,  2, 12,  6,  8,  0,  0,  3,  2,\n",
       "        7,  0,  9])"
      ]
     },
     "execution_count": 79,
     "metadata": {},
     "output_type": "execute_result"
    }
   ],
   "source": [
    "y_pred = clf.predict(x_test_reshaped)\n",
    "y_pred"
   ]
  },
  {
   "cell_type": "markdown",
   "id": "4a72a103",
   "metadata": {},
   "source": [
    "## 9. Results"
   ]
  },
  {
   "cell_type": "code",
   "execution_count": 80,
   "id": "c312ba4b",
   "metadata": {},
   "outputs": [
    {
     "name": "stdout",
     "output_type": "stream",
     "text": [
      "[[45  0  1  0  0  0  0  0  0  0  0  0  0  0]\n",
      " [ 0 37  0  0  2 10  0  0  0  0  0  0  0  0]\n",
      " [ 3  0 48  8  2  2  0  0  0  0  0  0  0  0]\n",
      " [ 0  1  3 42  0  1  0  0  0  0  0  0  0  0]\n",
      " [ 0  0  0  0 41  0  1  0  0  0  0  0  0  0]\n",
      " [ 0  2  2  6  0 45  0  0  0  0  0  0  0  0]\n",
      " [ 0  0  0  0  4  0 53  0  0  0  0  0  0  0]\n",
      " [ 0  0  0  0  0  0  0 46  0  3  1  0  1  0]\n",
      " [ 0  0  0  0  0  0  0  0 50  0  0  0  2  0]\n",
      " [ 1  0  0  0  0  0  0  1  0 41  4  0  1  0]\n",
      " [ 0  0  0  0  0  0  0  2  0  0 48  0  1  0]\n",
      " [ 0  0  0  0  0  0  0  1  0  0  1 47  0  0]\n",
      " [ 0  0  0  0  0  0  0  2  0  1  0  1 45  0]\n",
      " [ 0  0  0  0  0  0  0  0  0  0  0  2  0 39]]\n",
      "              precision    recall  f1-score   support\n",
      "\n",
      "           0       0.92      0.98      0.95        46\n",
      "           1       0.93      0.76      0.83        49\n",
      "           2       0.89      0.76      0.82        63\n",
      "           3       0.75      0.89      0.82        47\n",
      "           4       0.84      0.98      0.90        42\n",
      "           5       0.78      0.82      0.80        55\n",
      "           6       0.98      0.93      0.95        57\n",
      "           7       0.88      0.90      0.89        51\n",
      "           8       1.00      0.96      0.98        52\n",
      "           9       0.91      0.85      0.88        48\n",
      "          10       0.89      0.94      0.91        51\n",
      "          11       0.94      0.96      0.95        49\n",
      "          12       0.90      0.92      0.91        49\n",
      "          13       1.00      0.95      0.97        41\n",
      "\n",
      "    accuracy                           0.90       700\n",
      "   macro avg       0.90      0.90      0.90       700\n",
      "weighted avg       0.90      0.90      0.90       700\n",
      "\n",
      "Accuracy :  89.57142857142857 %\n"
     ]
    }
   ],
   "source": [
    "print(confusion_matrix(y_test, y_pred))\n",
    "print(classification_report(y_test, y_pred))\n",
    "print(\"Accuracy : \",accuracy_score(y_test, y_pred) * 100, '%')"
   ]
  },
  {
   "cell_type": "markdown",
   "id": "4d05b565",
   "metadata": {},
   "source": [
    "### Submitted By - Prateek Sarna & Ayushi"
   ]
  }
 ],
 "metadata": {
  "kernelspec": {
   "display_name": "Python 3 (ipykernel)",
   "language": "python",
   "name": "python3"
  },
  "language_info": {
   "codemirror_mode": {
    "name": "ipython",
    "version": 3
   },
   "file_extension": ".py",
   "mimetype": "text/x-python",
   "name": "python",
   "nbconvert_exporter": "python",
   "pygments_lexer": "ipython3",
   "version": "3.11.5"
  }
 },
 "nbformat": 4,
 "nbformat_minor": 5
}
